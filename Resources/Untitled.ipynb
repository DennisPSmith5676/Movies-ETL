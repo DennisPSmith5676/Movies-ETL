{
 "cells": [
  {
   "cell_type": "code",
   "execution_count": 1,
   "id": "fc9df188-aca7-4f30-bedb-5aeb12f120e1",
   "metadata": {},
   "outputs": [],
   "source": [
    "import os\n",
    "import csv"
   ]
  },
  {
   "cell_type": "code",
   "execution_count": 3,
   "id": "93b4dfdf-275f-4a11-a3f2-e716ff42c46b",
   "metadata": {},
   "outputs": [
    {
     "ename": "SyntaxError",
     "evalue": "invalid syntax (Temp/ipykernel_19236/3113752675.py, line 1)",
     "output_type": "error",
     "traceback": [
      "\u001b[1;36m  File \u001b[1;32m\"C:\\Users\\dsmit\\AppData\\Local\\Temp/ipykernel_19236/3113752675.py\"\u001b[1;36m, line \u001b[1;32m1\u001b[0m\n\u001b[1;33m    file_to_save = os.path.join(\"output:, \"employee.txt\")\u001b[0m\n\u001b[1;37m                                                  ^\u001b[0m\n\u001b[1;31mSyntaxError\u001b[0m\u001b[1;31m:\u001b[0m invalid syntax\n"
     ]
    }
   ],
   "source": [
    "file_to_save = os.path.join(\"output:, \"employee.txt\")"
   ]
  },
  {
   "cell_type": "code",
   "execution_count": 4,
   "id": "a0193d48-a456-47f1-8793-3fcbcee67b83",
   "metadata": {},
   "outputs": [
    {
     "ename": "SyntaxError",
     "evalue": "EOL while scanning string literal (Temp/ipykernel_19236/1956287511.py, line 3)",
     "output_type": "error",
     "traceback": [
      "\u001b[1;36m  File \u001b[1;32m\"C:\\Users\\dsmit\\AppData\\Local\\Temp/ipykernel_19236/1956287511.py\"\u001b[1;36m, line \u001b[1;32m3\u001b[0m\n\u001b[1;33m    f'First Name', 'last name', 'ssn\\n\"\u001b[0m\n\u001b[1;37m                                       ^\u001b[0m\n\u001b[1;31mSyntaxError\u001b[0m\u001b[1;31m:\u001b[0m EOL while scanning string literal\n"
     ]
    }
   ],
   "source": [
    "with open (file_to_save, \"w\") as new_file:\n",
    "    employees =(\n",
    "            f'First Name', 'last name', 'ssn\\n\"\n",
    "            f'caleb', 'frost', '505-80-2901\\n\")\n",
    "        \n",
    "        employee.txt   .write(employees)"
   ]
  },
  {
   "cell_type": "code",
   "execution_count": 5,
   "id": "753aa41e-4ee6-4c4f-b1ef-aff0b5d7e162",
   "metadata": {},
   "outputs": [
    {
     "ename": "SyntaxError",
     "evalue": "EOL while scanning string literal (Temp/ipykernel_19236/1240659487.py, line 1)",
     "output_type": "error",
     "traceback": [
      "\u001b[1;36m  File \u001b[1;32m\"C:\\Users\\dsmit\\AppData\\Local\\Temp/ipykernel_19236/1240659487.py\"\u001b[1;36m, line \u001b[1;32m1\u001b[0m\n\u001b[1;33m    students = (\"frank\", \"Mary\", \"jas\", 'Ivana\", \"Ahmed\")\u001b[0m\n\u001b[1;37m                                                         ^\u001b[0m\n\u001b[1;31mSyntaxError\u001b[0m\u001b[1;31m:\u001b[0m EOL while scanning string literal\n"
     ]
    }
   ],
   "source": [
    "students = (\"frank\", \"Mary\", \"jas\", 'Ivana\", \"Ahmed\")\n",
    "students.append(\"Serina\")\n",
    "print(students)"
   ]
  },
  {
   "cell_type": "code",
   "execution_count": 6,
   "id": "083821f4-fa80-40fa-b4f3-e44cfba4cff4",
   "metadata": {},
   "outputs": [],
   "source": [
    "test_grades = {\n",
    "    'Class': ['Oct', 'Oct', 'Jan', 'Jan', 'Oct', 'Jan'], \n",
    "    'Name': [\"Cyndy\", \"Logan\", \"Laci\", \"Elmer\", \"Crystle\", \"Emmie\"], \n",
    "    'Test Score': [90, 59, 72, 88, 98, 60]}"
   ]
  },
  {
   "cell_type": "code",
   "execution_count": 7,
   "id": "36b1bb72-1cf4-45df-8f0d-f8c82fe1aaff",
   "metadata": {},
   "outputs": [
    {
     "ename": "SyntaxError",
     "evalue": "invalid syntax (Temp/ipykernel_19236/329543950.py, line 1)",
     "output_type": "error",
     "traceback": [
      "\u001b[1;36m  File \u001b[1;32m\"C:\\Users\\dsmit\\AppData\\Local\\Temp/ipykernel_19236/329543950.py\"\u001b[1;36m, line \u001b[1;32m1\u001b[0m\n\u001b[1;33m    df 'Test Score' = pd.['Test Score'](df,[letter_grades] bins, labels=letter_grades)\u001b[0m\n\u001b[1;37m                  ^\u001b[0m\n\u001b[1;31mSyntaxError\u001b[0m\u001b[1;31m:\u001b[0m invalid syntax\n"
     ]
    }
   ],
   "source": [
    "df 'Test Score' = pd.['Test Score'](df,[letter_grades] bins, labels=letter_grades)"
   ]
  },
  {
   "cell_type": "code",
   "execution_count": 14,
   "id": "33eaf9ad-883a-43d6-8554-65a6899789aa",
   "metadata": {},
   "outputs": [
    {
     "ename": "TypeError",
     "evalue": "object of type 'module' has no len()",
     "output_type": "error",
     "traceback": [
      "\u001b[1;31m---------------------------------------------------------------------------\u001b[0m",
      "\u001b[1;31mTypeError\u001b[0m                                 Traceback (most recent call last)",
      "\u001b[1;32m~\\AppData\\Local\\Temp/ipykernel_19236/665727209.py\u001b[0m in \u001b[0;36m<module>\u001b[1;34m\u001b[0m\n\u001b[0;32m      1\u001b[0m \u001b[1;32mimport\u001b[0m \u001b[0mrequests\u001b[0m\u001b[1;33m\u001b[0m\u001b[1;33m\u001b[0m\u001b[0m\n\u001b[0;32m      2\u001b[0m \u001b[0murl\u001b[0m \u001b[1;33m=\u001b[0m \u001b[1;34m\"https://api.spacexdata.com/v2/launchpads\"\u001b[0m\u001b[1;33m\u001b[0m\u001b[1;33m\u001b[0m\u001b[0m\n\u001b[1;32m----> 3\u001b[1;33m \u001b[0mlen\u001b[0m\u001b[1;33m(\u001b[0m\u001b[0mrequests\u001b[0m\u001b[1;33m)\u001b[0m\u001b[1;33m\u001b[0m\u001b[1;33m\u001b[0m\u001b[0m\n\u001b[0m",
      "\u001b[1;31mTypeError\u001b[0m: object of type 'module' has no len()"
     ]
    }
   ],
   "source": [
    "import requests\n",
    "url = \"https://api.spacexdata.com/v2/launchpads\"\n",
    "len(requests)"
   ]
  },
  {
   "cell_type": "code",
   "execution_count": 20,
   "id": "0bf02a8a-d471-40d8-b5b4-c6e20366203c",
   "metadata": {},
   "outputs": [
    {
     "name": "stdout",
     "output_type": "stream",
     "text": [
      "I made it through the gauntlet. The message survived!\n"
     ]
    }
   ],
   "source": [
    "try:\n",
    "    print(\"Infinity looks like + \" + str(10 / 0) + \".\")\n",
    "except: ZeroDivisionError\n",
    "try:\n",
    "        print(\"I think her name was + \" + name + \"?\")\n",
    "except : NameError\n",
    "try:\n",
    "            print(\"Your name is a nonsense number. Look: \" + int(\"Gabriel\"))\n",
    "except : ValueError\n",
    "print(\"I made it through the gauntlet. The message survived!\")"
   ]
  },
  {
   "cell_type": "code",
   "execution_count": null,
   "id": "a199d073-072e-4bb3-812b-72788ac0adc7",
   "metadata": {},
   "outputs": [],
   "source": []
  }
 ],
 "metadata": {
  "kernelspec": {
   "display_name": "Python 3 (ipykernel)",
   "language": "python",
   "name": "python3"
  },
  "language_info": {
   "codemirror_mode": {
    "name": "ipython",
    "version": 3
   },
   "file_extension": ".py",
   "mimetype": "text/x-python",
   "name": "python",
   "nbconvert_exporter": "python",
   "pygments_lexer": "ipython3",
   "version": "3.7.11"
  }
 },
 "nbformat": 4,
 "nbformat_minor": 5
}
